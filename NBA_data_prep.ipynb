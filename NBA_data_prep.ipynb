{
 "cells": [
  {
   "cell_type": "markdown",
   "metadata": {},
   "source": [
    "Importing some packages"
   ]
  },
  {
   "cell_type": "code",
   "execution_count": 48,
   "metadata": {
    "collapsed": true
   },
   "outputs": [],
   "source": [
    "import numpy as np\n",
    "import math\n",
    "import sklearn\n",
    "import pandas as pd"
   ]
  },
  {
   "cell_type": "markdown",
   "metadata": {},
   "source": [
    "Reading in the file"
   ]
  },
  {
   "cell_type": "code",
   "execution_count": 49,
   "metadata": {
    "collapsed": true
   },
   "outputs": [],
   "source": [
    "teamBoxScore = pd.read_csv('teamBoxScore.csv')"
   ]
  },
  {
   "cell_type": "markdown",
   "metadata": {},
   "source": [
    "Rows and columns in the data"
   ]
  },
  {
   "cell_type": "code",
   "execution_count": 50,
   "metadata": {},
   "outputs": [
    {
     "data": {
      "text/plain": [
       "(2460, 123)"
      ]
     },
     "execution_count": 50,
     "metadata": {},
     "output_type": "execute_result"
    }
   ],
   "source": [
    "teamBoxScore.shape"
   ]
  },
  {
   "cell_type": "markdown",
   "metadata": {},
   "source": [
    "Dropping some columns"
   ]
  },
  {
   "cell_type": "code",
   "execution_count": 51,
   "metadata": {},
   "outputs": [],
   "source": [
    "teamBoxScore = teamBoxScore.drop(['seasTyp','offLNm1','offFNm1','offLNm2','offFNm2','offLNm3','offFNm3'],axis=1)"
   ]
  },
  {
   "cell_type": "markdown",
   "metadata": {},
   "source": [
    "As discussed, dropping all the features we don't want"
   ]
  },
  {
   "cell_type": "code",
   "execution_count": 52,
   "metadata": {
    "collapsed": true
   },
   "outputs": [],
   "source": [
    "teamBoxScoreReduced = teamBoxScore.drop(['teamMin','teamFG%','team2P%','team3P%','teamFT%','teamTRB'],axis=1)\n",
    "teamBoxScoreReduced = teamBoxScoreReduced.drop(['opptMin','opptFG%','oppt2P%','oppt3P%','opptFT%','opptTRB'],axis=1)\n"
   ]
  },
  {
   "cell_type": "code",
   "execution_count": 53,
   "metadata": {},
   "outputs": [
    {
     "name": "stdout",
     "output_type": "stream",
     "text": [
      "Index(['teamPTS5', 'teamPTS6', 'teamPTS7', 'teamPTS8', 'teamTREB%',\n",
      "       'teamASST%', 'teamTS%', 'teamEFG%', 'teamOREB%', 'teamDREB%', 'teamTO%',\n",
      "       'teamSTL%', 'teamBLK%', 'teamBLKR', 'teamPPS', 'teamFIC', 'teamFIC40',\n",
      "       'teamOrtg', 'teamDrtg', 'teamEDiff', 'teamPlay%', 'teamAR',\n",
      "       'teamAST/TO', 'teamSTL/TO'],\n",
      "      dtype='object')\n",
      "Index(['opptPTS5', 'opptPTS6', 'opptPTS7', 'opptPTS8', 'opptTREB%',\n",
      "       'opptASST%', 'opptTS%', 'opptEFG%', 'opptOREB%', 'opptDREB%', 'opptTO%',\n",
      "       'opptSTL%', 'opptBLK%', 'opptBLKR', 'opptPPS', 'opptFIC', 'opptFIC40',\n",
      "       'opptOrtg', 'opptDrtg', 'opptEDiff', 'opptPlay%', 'opptAR',\n",
      "       'opptAST/TO', 'opptSTL/TO', 'poss', 'pace'],\n",
      "      dtype='object')\n"
     ]
    }
   ],
   "source": [
    "removeCols = teamBoxScore.columns\n",
    "removeColsTeam = removeCols[34:58]\n",
    "removeColsOppt = removeCols[90:116]\n",
    "print(removeColsTeam)\n",
    "print(removeColsOppt)"
   ]
  },
  {
   "cell_type": "code",
   "execution_count": 54,
   "metadata": {
    "collapsed": true
   },
   "outputs": [],
   "source": [
    "teamBoxScoreReduced = teamBoxScoreReduced.drop(removeColsTeam,axis=1)\n",
    "teamBoxScoreReduced = teamBoxScoreReduced.drop(removeColsOppt,axis=1)"
   ]
  },
  {
   "cell_type": "markdown",
   "metadata": {},
   "source": [
    "Writing the reduced file to csv"
   ]
  },
  {
   "cell_type": "code",
   "execution_count": 55,
   "metadata": {},
   "outputs": [],
   "source": [
    "teamBoxScoreReduced.to_csv('teamBoxScore_droppedCols.csv')"
   ]
  },
  {
   "cell_type": "code",
   "execution_count": 56,
   "metadata": {
    "scrolled": true
   },
   "outputs": [
    {
     "data": {
      "text/plain": [
       "Index(['gmDate', 'gmTime', 'teamAbbr', 'teamConf', 'teamDiv', 'teamLoc',\n",
       "       'teamRslt', 'teamDayOff', 'teamPTS', 'teamAST', 'teamTO', 'teamSTL',\n",
       "       'teamBLK', 'teamPF', 'teamFGA', 'teamFGM', 'team2PA', 'team2PM',\n",
       "       'team3PA', 'team3PM', 'teamFTA', 'teamFTM', 'teamORB', 'teamDRB',\n",
       "       'teamPTS1', 'teamPTS2', 'teamPTS3', 'teamPTS4', 'opptAbbr', 'opptConf',\n",
       "       'opptDiv', 'opptLoc', 'opptRslt', 'opptDayOff', 'opptPTS', 'opptAST',\n",
       "       'opptTO', 'opptSTL', 'opptBLK', 'opptPF', 'opptFGA', 'opptFGM',\n",
       "       'oppt2PA', 'oppt2PM', 'oppt3PA', 'oppt3PM', 'opptFTA', 'opptFTM',\n",
       "       'opptORB', 'opptDRB', 'opptPTS1', 'opptPTS2', 'opptPTS3', 'opptPTS4'],\n",
       "      dtype='object')"
      ]
     },
     "execution_count": 56,
     "metadata": {},
     "output_type": "execute_result"
    }
   ],
   "source": [
    "teamBoxScoreReduced.columns"
   ]
  },
  {
   "cell_type": "markdown",
   "metadata": {},
   "source": [
    "I want to take the headers and transpose to give a column format"
   ]
  },
  {
   "cell_type": "code",
   "execution_count": 57,
   "metadata": {
    "collapsed": true
   },
   "outputs": [],
   "source": [
    "boxScoreHeaders = teamBoxScoreReduced.iloc[1]\n",
    "boxScoreHeaders = boxScoreHeaders.transpose()\n",
    "boxScoreHeaders.to_csv(\"boxScoreHeadersVector.csv\")"
   ]
  },
  {
   "cell_type": "code",
   "execution_count": null,
   "metadata": {
    "collapsed": true
   },
   "outputs": [],
   "source": []
  },
  {
   "cell_type": "code",
   "execution_count": null,
   "metadata": {
    "collapsed": true
   },
   "outputs": [],
   "source": []
  },
  {
   "cell_type": "code",
   "execution_count": null,
   "metadata": {
    "collapsed": true
   },
   "outputs": [],
   "source": []
  },
  {
   "cell_type": "code",
   "execution_count": null,
   "metadata": {
    "collapsed": true
   },
   "outputs": [],
   "source": []
  }
 ],
 "metadata": {
  "kernelspec": {
   "display_name": "Python 3",
   "language": "python",
   "name": "python3"
  },
  "language_info": {
   "codemirror_mode": {
    "name": "ipython",
    "version": 3
   },
   "file_extension": ".py",
   "mimetype": "text/x-python",
   "name": "python",
   "nbconvert_exporter": "python",
   "pygments_lexer": "ipython3",
   "version": "3.6.1"
  }
 },
 "nbformat": 4,
 "nbformat_minor": 2
}
